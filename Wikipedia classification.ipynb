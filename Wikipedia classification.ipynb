{
 "cells": [
  {
   "cell_type": "code",
   "execution_count": 1,
   "id": "2f675fb9",
   "metadata": {},
   "outputs": [],
   "source": [
    "import pandas as pd\n",
    "import xml.etree.ElementTree as et"
   ]
  },
  {
   "cell_type": "code",
   "execution_count": 2,
   "id": "09409565",
   "metadata": {},
   "outputs": [],
   "source": [
    "etree= et.parse('Posts.xml')"
   ]
  },
  {
   "cell_type": "code",
   "execution_count": 7,
   "id": "ce721dc5",
   "metadata": {},
   "outputs": [],
   "source": [
    "eroot=etree.getroot()"
   ]
  },
  {
   "cell_type": "code",
   "execution_count": 8,
   "id": "1970cc29",
   "metadata": {},
   "outputs": [],
   "source": [
    "def parse_xml(root):\n",
    "    attr = root.attrib\n",
    "    \n",
    "    for root_element in eroot.findall('sentence'):\n",
    "        xml_data = attr.copy()\n",
    "        xml_data.update(root_element.attrib)\n",
    "        xml_data['text'] = root_element.find('text').text\n",
    "            \n",
    "        return xml_data"
   ]
  },
  {
   "cell_type": "code",
   "execution_count": null,
   "id": "35101205",
   "metadata": {},
   "outputs": [],
   "source": [
    "doc = pd.DataFrame(list(parse_xml(etree.getroot())))"
   ]
  }
 ],
 "metadata": {
  "kernelspec": {
   "display_name": "Python 3 (ipykernel)",
   "language": "python",
   "name": "python3"
  },
  "language_info": {
   "codemirror_mode": {
    "name": "ipython",
    "version": 3
   },
   "file_extension": ".py",
   "mimetype": "text/x-python",
   "name": "python",
   "nbconvert_exporter": "python",
   "pygments_lexer": "ipython3",
   "version": "3.9.12"
  }
 },
 "nbformat": 4,
 "nbformat_minor": 5
}
